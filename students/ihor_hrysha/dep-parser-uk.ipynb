{
 "cells": [
  {
   "cell_type": "markdown",
   "metadata": {},
   "source": [
    "# Transition-based arc-eager unlabeled dependency parser for Ukrainian"
   ]
  },
  {
   "cell_type": "markdown",
   "metadata": {},
   "source": [
    "## Read the data\n",
    "\n",
    "Useful links:\n",
    "* [UD corpus for Ukrainian](https://github.com/UniversalDependencies/UD_Ukrainian-IU/)\n",
    "* [Easy-to-use library for parsing UD](https://github.com/EmilStenstrom/conllu)"
   ]
  },
  {
   "cell_type": "code",
   "execution_count": 1,
   "metadata": {},
   "outputs": [
    {
     "output_type": "stream",
     "name": "stdout",
     "text": "/home/ihor/ds/nlp/module3/students\n"
    }
   ],
   "source": [
    "!pwd"
   ]
  },
  {
   "cell_type": "code",
   "execution_count": 2,
   "metadata": {},
   "outputs": [],
   "source": [
    "from collections import OrderedDict\n",
    "from conllu import parse\n",
    "from enum import Enum\n",
    "\n",
    "PATH = \"UD_Ukrainian-IU\"\n",
    "\n",
    "with open(PATH + \"/uk_iu-ud-train.conllu.txt\", \"r\") as f:\n",
    "    train_trees = parse(f.read())\n",
    "\n",
    "with open(PATH + \"/uk_iu-ud-dev.conllu.txt\", \"r\") as f:\n",
    "    test_trees = parse(f.read())"
   ]
  },
  {
   "cell_type": "code",
   "execution_count": 3,
   "metadata": {},
   "outputs": [
    {
     "output_type": "stream",
     "name": "stdout",
     "text": "У домі римського патриція Руфіна була прегарна фреска, зображення Венери та Адоніса.\n(deprel:root) form:була lemma:бути upos:VERB [6]\n    (deprel:obl) form:домі lemma:дім upos:NOUN [2]\n        (deprel:case) form:У lemma:у upos:ADP [1]\n        (deprel:nmod) form:патриція lemma:патрицій upos:NOUN [4]\n            (deprel:amod) form:римського lemma:римський upos:ADJ [3]\n            (deprel:flat:title) form:Руфіна lemma:Руфін upos:PROPN [5]\n    (deprel:nsubj) form:фреска lemma:фреска upos:NOUN [8]\n        (deprel:amod) form:прегарна lemma:прегарний upos:ADJ [7]\n        (deprel:appos) form:зображення lemma:зображення upos:NOUN [10]\n            (deprel:punct) form:, lemma:, upos:PUNCT [9]\n            (deprel:nmod) form:Венери lemma:Венера upos:PROPN [11]\n                (deprel:conj) form:Адоніса lemma:Адоніс upos:PROPN [13]\n                    (deprel:cc) form:та lemma:та upos:CCONJ [12]\n    (deprel:punct) form:. lemma:. upos:PUNCT [14]\n"
    }
   ],
   "source": [
    "print(train_trees[0].metadata['text'])\n",
    "train_trees[0].to_tree().print_tree()"
   ]
  },
  {
   "cell_type": "markdown",
   "metadata": {},
   "source": [
    "## Design actions and the oracle\n",
    "\n",
    "We will be using a static oracle that reproduces a single valid order of actions."
   ]
  },
  {
   "cell_type": "code",
   "execution_count": 4,
   "metadata": {},
   "outputs": [],
   "source": [
    "class Actions(str, Enum):\n",
    "    SHIFT = \"shift\"\n",
    "    REDUCE = \"reduce\"\n",
    "    RIGHT = \"right\"\n",
    "    LEFT = \"left\"\n",
    "    SWAP = \"swap\""
   ]
  },
  {
   "cell_type": "code",
   "execution_count": 5,
   "metadata": {},
   "outputs": [],
   "source": [
    "def oracle_arc_eager(stack, queue, relations):\n",
    "    \"\"\"\n",
    "    Make a decision on the right action to do.\n",
    "    \"\"\"\n",
    "    top_stack = stack[-1]\n",
    "    top_queue = queue[0] if queue else None\n",
    "    \n",
    "    # check if both stack and queue are non-empty\n",
    "    if top_stack and not top_queue:\n",
    "        return Actions.REDUCE\n",
    "    # check if there are any clear dependencies\n",
    "    elif top_queue[\"head\"] == top_stack[\"id\"]:\n",
    "        return Actions.RIGHT\n",
    "    elif top_stack[\"head\"] == top_queue[\"id\"]:\n",
    "        return Actions.LEFT\n",
    "    # check if we can reduce the top of the stack\n",
    "    elif top_stack[\"id\"] in [i[0] for i in relations] and \\\n",
    "         (top_queue[\"head\"] < top_stack[\"id\"] or \\\n",
    "          [s for s in stack if s[\"head\"] == top_queue[\"id\"]]):\n",
    "        return Actions.REDUCE\n",
    "    # default option\n",
    "    else:\n",
    "        return Actions.SHIFT\n"
   ]
  },
  {
   "cell_type": "markdown",
   "metadata": {},
   "source": [
    "## Feature extraction\n",
    "\n",
    "Reference: [Dependency Parsing by Kübler, McDonald, and Nivre](https://books.google.com.ua/books?id=k3iiup7HB9UC&pg=PA21&hl=uk&source=gbs_toc_r&cad=4#v=onepage&q&f=false)"
   ]
  },
  {
   "cell_type": "code",
   "execution_count": 6,
   "metadata": {},
   "outputs": [],
   "source": [
    "def extract_features(stack, queue):\n",
    "    features = dict()\n",
    "    if len(stack) > 0:\n",
    "        stack_top = stack[-1]\n",
    "        features[\"s0-word\"] = stack_top[\"form\"]\n",
    "        features[\"s0-lemma\"] = stack_top[\"lemma\"]\n",
    "        features[\"s0-tag\"] = stack_top[\"upostag\"]\n",
    "    if len(stack) > 1:\n",
    "        features[\"s1-tag\"] = stack[-2][\"upostag\"]\n",
    "    if queue:\n",
    "        queue_top = queue[0]\n",
    "        features[\"q0-word\"] = queue_top[\"form\"]\n",
    "        features[\"q0-lemma\"] = queue_top[\"lemma\"]\n",
    "        features[\"q0-tag\"] = queue_top[\"upostag\"]\n",
    "    if len(queue) > 1:\n",
    "        queue_next = queue[1]\n",
    "        features[\"q1-word\"] = queue_next[\"form\"]\n",
    "        features[\"q1-tag\"] = queue_next[\"upostag\"]\n",
    "    if len(queue) > 2:\n",
    "        features[\"q2-tag\"] = queue[2][\"upostag\"]\n",
    "    if len(queue) > 3:\n",
    "        features[\"q3-tag\"] = queue[3][\"upostag\"]\n",
    "    return features"
   ]
  },
  {
   "cell_type": "markdown",
   "metadata": {},
   "source": [
    "## Prepare train and test data"
   ]
  },
  {
   "cell_type": "code",
   "execution_count": 7,
   "metadata": {},
   "outputs": [],
   "source": [
    "ROOT = OrderedDict([('id', 0), ('form', 'ROOT'), ('lemma', 'ROOT'), ('upostag', 'ROOT'),\n",
    "                    ('xpostag', None), ('feats', None), ('head', None), ('deprel', None),\n",
    "                    ('deps', None), ('misc', None)])"
   ]
  },
  {
   "cell_type": "code",
   "execution_count": 10,
   "metadata": {},
   "outputs": [],
   "source": [
    "def get_data(tree, oracle=None, verbose=False):\n",
    "    features, labels = [], []\n",
    "    stack, queue, relations, relations_human = [ROOT], tree[:], [], []\n",
    "\n",
    "    if oracle is None:\n",
    "        oracle = oracle_arc_eager\n",
    "\n",
    "    while queue or stack:\n",
    "        # get action\n",
    "        action = oracle(stack if len(stack) > 0 else None,\n",
    "                        queue if len(queue) > 0 else None,\n",
    "                        relations)\n",
    "        if verbose:\n",
    "            print(\"-\"*20)\n",
    "            print(f\"Stack: {[t['form'] for t in stack] if stack else []}\")\n",
    "            print(f\"Queue: {[t['form'] for t in queue] if queue else [] }\")\n",
    "\n",
    "        # Update train data\n",
    "        features.append(extract_features(stack, queue))\n",
    "        labels.append(action.value)\n",
    "        \n",
    "        # Perform action\n",
    "        if action == Actions.SHIFT:\n",
    "            stack.append(queue.pop(0))\n",
    "        elif action == Actions.REDUCE:\n",
    "            stack.pop()\n",
    "        elif action == Actions.LEFT:\n",
    "            relations.append((stack[-1][\"id\"], queue[0][\"id\"]))\n",
    "            if verbose:\n",
    "                relations_human.append((stack[-1][\"form\"], queue[0][\"form\"]))\n",
    "            stack.pop()\n",
    "        elif action == Actions.RIGHT:\n",
    "            relations.append((queue[0][\"id\"], stack[-1][\"id\"]))\n",
    "            if verbose:\n",
    "                relations_human.append((queue[0][\"form\"], stack[-1][\"form\"]))\n",
    "            stack.append(queue.pop(0))\n",
    "        else:\n",
    "            print(\"Unknown action.\")\n",
    "\n",
    "        if verbose:\n",
    "            print(f\"\\t Relation {relations_human}\")\n",
    "            print(f\"\\t Action: {action}\")  \n",
    "            \n",
    "    return features, labels"
   ]
  },
  {
   "cell_type": "code",
   "execution_count": 11,
   "metadata": {},
   "outputs": [
    {
     "output_type": "stream",
     "name": "stdout",
     "text": "У домі римського патриція Руфіна була прегарна фреска, зображення Венери та Адоніса.\n--------------------\nStack: ['ROOT']\nQueue: ['У', 'домі', 'римського', 'патриція', 'Руфіна', 'була', 'прегарна', 'фреска', ',', 'зображення', 'Венери', 'та', 'Адоніса', '.']\n\t Relation []\n\t Action: shift\n--------------------\nStack: ['ROOT', 'У']\nQueue: ['домі', 'римського', 'патриція', 'Руфіна', 'була', 'прегарна', 'фреска', ',', 'зображення', 'Венери', 'та', 'Адоніса', '.']\n\t Relation [('У', 'домі')]\n\t Action: left\n--------------------\nStack: ['ROOT']\nQueue: ['домі', 'римського', 'патриція', 'Руфіна', 'була', 'прегарна', 'фреска', ',', 'зображення', 'Венери', 'та', 'Адоніса', '.']\n\t Relation [('У', 'домі')]\n\t Action: shift\n--------------------\nStack: ['ROOT', 'домі']\nQueue: ['римського', 'патриція', 'Руфіна', 'була', 'прегарна', 'фреска', ',', 'зображення', 'Венери', 'та', 'Адоніса', '.']\n\t Relation [('У', 'домі')]\n\t Action: shift\n--------------------\nStack: ['ROOT', 'домі', 'римського']\nQueue: ['патриція', 'Руфіна', 'була', 'прегарна', 'фреска', ',', 'зображення', 'Венери', 'та', 'Адоніса', '.']\n\t Relation [('У', 'домі'), ('римського', 'патриція')]\n\t Action: left\n--------------------\nStack: ['ROOT', 'домі']\nQueue: ['патриція', 'Руфіна', 'була', 'прегарна', 'фреска', ',', 'зображення', 'Венери', 'та', 'Адоніса', '.']\n\t Relation [('У', 'домі'), ('римського', 'патриція'), ('патриція', 'домі')]\n\t Action: right\n--------------------\nStack: ['ROOT', 'домі', 'патриція']\nQueue: ['Руфіна', 'була', 'прегарна', 'фреска', ',', 'зображення', 'Венери', 'та', 'Адоніса', '.']\n\t Relation [('У', 'домі'), ('римського', 'патриція'), ('патриція', 'домі'), ('Руфіна', 'патриція')]\n\t Action: right\n--------------------\nStack: ['ROOT', 'домі', 'патриція', 'Руфіна']\nQueue: ['була', 'прегарна', 'фреска', ',', 'зображення', 'Венери', 'та', 'Адоніса', '.']\n\t Relation [('У', 'домі'), ('римського', 'патриція'), ('патриція', 'домі'), ('Руфіна', 'патриція')]\n\t Action: reduce\n--------------------\nStack: ['ROOT', 'домі', 'патриція']\nQueue: ['була', 'прегарна', 'фреска', ',', 'зображення', 'Венери', 'та', 'Адоніса', '.']\n\t Relation [('У', 'домі'), ('римського', 'патриція'), ('патриція', 'домі'), ('Руфіна', 'патриція')]\n\t Action: reduce\n--------------------\nStack: ['ROOT', 'домі']\nQueue: ['була', 'прегарна', 'фреска', ',', 'зображення', 'Венери', 'та', 'Адоніса', '.']\n\t Relation [('У', 'домі'), ('римського', 'патриція'), ('патриція', 'домі'), ('Руфіна', 'патриція'), ('домі', 'була')]\n\t Action: left\n--------------------\nStack: ['ROOT']\nQueue: ['була', 'прегарна', 'фреска', ',', 'зображення', 'Венери', 'та', 'Адоніса', '.']\n\t Relation [('У', 'домі'), ('римського', 'патриція'), ('патриція', 'домі'), ('Руфіна', 'патриція'), ('домі', 'була'), ('була', 'ROOT')]\n\t Action: right\n--------------------\nStack: ['ROOT', 'була']\nQueue: ['прегарна', 'фреска', ',', 'зображення', 'Венери', 'та', 'Адоніса', '.']\n\t Relation [('У', 'домі'), ('римського', 'патриція'), ('патриція', 'домі'), ('Руфіна', 'патриція'), ('домі', 'була'), ('була', 'ROOT')]\n\t Action: shift\n--------------------\nStack: ['ROOT', 'була', 'прегарна']\nQueue: ['фреска', ',', 'зображення', 'Венери', 'та', 'Адоніса', '.']\n\t Relation [('У', 'домі'), ('римського', 'патриція'), ('патриція', 'домі'), ('Руфіна', 'патриція'), ('домі', 'була'), ('була', 'ROOT'), ('прегарна', 'фреска')]\n\t Action: left\n--------------------\nStack: ['ROOT', 'була']\nQueue: ['фреска', ',', 'зображення', 'Венери', 'та', 'Адоніса', '.']\n\t Relation [('У', 'домі'), ('римського', 'патриція'), ('патриція', 'домі'), ('Руфіна', 'патриція'), ('домі', 'була'), ('була', 'ROOT'), ('прегарна', 'фреска'), ('фреска', 'була')]\n\t Action: right\n--------------------\nStack: ['ROOT', 'була', 'фреска']\nQueue: [',', 'зображення', 'Венери', 'та', 'Адоніса', '.']\n\t Relation [('У', 'домі'), ('римського', 'патриція'), ('патриція', 'домі'), ('Руфіна', 'патриція'), ('домі', 'була'), ('була', 'ROOT'), ('прегарна', 'фреска'), ('фреска', 'була')]\n\t Action: shift\n--------------------\nStack: ['ROOT', 'була', 'фреска', ',']\nQueue: ['зображення', 'Венери', 'та', 'Адоніса', '.']\n\t Relation [('У', 'домі'), ('римського', 'патриція'), ('патриція', 'домі'), ('Руфіна', 'патриція'), ('домі', 'була'), ('була', 'ROOT'), ('прегарна', 'фреска'), ('фреска', 'була'), (',', 'зображення')]\n\t Action: left\n--------------------\nStack: ['ROOT', 'була', 'фреска']\nQueue: ['зображення', 'Венери', 'та', 'Адоніса', '.']\n\t Relation [('У', 'домі'), ('римського', 'патриція'), ('патриція', 'домі'), ('Руфіна', 'патриція'), ('домі', 'була'), ('була', 'ROOT'), ('прегарна', 'фреска'), ('фреска', 'була'), (',', 'зображення'), ('зображення', 'фреска')]\n\t Action: right\n--------------------\nStack: ['ROOT', 'була', 'фреска', 'зображення']\nQueue: ['Венери', 'та', 'Адоніса', '.']\n\t Relation [('У', 'домі'), ('римського', 'патриція'), ('патриція', 'домі'), ('Руфіна', 'патриція'), ('домі', 'була'), ('була', 'ROOT'), ('прегарна', 'фреска'), ('фреска', 'була'), (',', 'зображення'), ('зображення', 'фреска'), ('Венери', 'зображення')]\n\t Action: right\n--------------------\nStack: ['ROOT', 'була', 'фреска', 'зображення', 'Венери']\nQueue: ['та', 'Адоніса', '.']\n\t Relation [('У', 'домі'), ('римського', 'патриція'), ('патриція', 'домі'), ('Руфіна', 'патриція'), ('домі', 'була'), ('була', 'ROOT'), ('прегарна', 'фреска'), ('фреска', 'була'), (',', 'зображення'), ('зображення', 'фреска'), ('Венери', 'зображення')]\n\t Action: shift\n--------------------\nStack: ['ROOT', 'була', 'фреска', 'зображення', 'Венери', 'та']\nQueue: ['Адоніса', '.']\n\t Relation [('У', 'домі'), ('римського', 'патриція'), ('патриція', 'домі'), ('Руфіна', 'патриція'), ('домі', 'була'), ('була', 'ROOT'), ('прегарна', 'фреска'), ('фреска', 'була'), (',', 'зображення'), ('зображення', 'фреска'), ('Венери', 'зображення'), ('та', 'Адоніса')]\n\t Action: left\n--------------------\nStack: ['ROOT', 'була', 'фреска', 'зображення', 'Венери']\nQueue: ['Адоніса', '.']\n\t Relation [('У', 'домі'), ('римського', 'патриція'), ('патриція', 'домі'), ('Руфіна', 'патриція'), ('домі', 'була'), ('була', 'ROOT'), ('прегарна', 'фреска'), ('фреска', 'була'), (',', 'зображення'), ('зображення', 'фреска'), ('Венери', 'зображення'), ('та', 'Адоніса'), ('Адоніса', 'Венери')]\n\t Action: right\n--------------------\nStack: ['ROOT', 'була', 'фреска', 'зображення', 'Венери', 'Адоніса']\nQueue: ['.']\n\t Relation [('У', 'домі'), ('римського', 'патриція'), ('патриція', 'домі'), ('Руфіна', 'патриція'), ('домі', 'була'), ('була', 'ROOT'), ('прегарна', 'фреска'), ('фреска', 'була'), (',', 'зображення'), ('зображення', 'фреска'), ('Венери', 'зображення'), ('та', 'Адоніса'), ('Адоніса', 'Венери')]\n\t Action: reduce\n--------------------\nStack: ['ROOT', 'була', 'фреска', 'зображення', 'Венери']\nQueue: ['.']\n\t Relation [('У', 'домі'), ('римського', 'патриція'), ('патриція', 'домі'), ('Руфіна', 'патриція'), ('домі', 'була'), ('була', 'ROOT'), ('прегарна', 'фреска'), ('фреска', 'була'), (',', 'зображення'), ('зображення', 'фреска'), ('Венери', 'зображення'), ('та', 'Адоніса'), ('Адоніса', 'Венери')]\n\t Action: reduce\n--------------------\nStack: ['ROOT', 'була', 'фреска', 'зображення']\nQueue: ['.']\n\t Relation [('У', 'домі'), ('римського', 'патриція'), ('патриція', 'домі'), ('Руфіна', 'патриція'), ('домі', 'була'), ('була', 'ROOT'), ('прегарна', 'фреска'), ('фреска', 'була'), (',', 'зображення'), ('зображення', 'фреска'), ('Венери', 'зображення'), ('та', 'Адоніса'), ('Адоніса', 'Венери')]\n\t Action: reduce\n--------------------\nStack: ['ROOT', 'була', 'фреска']\nQueue: ['.']\n\t Relation [('У', 'домі'), ('римського', 'патриція'), ('патриція', 'домі'), ('Руфіна', 'патриція'), ('домі', 'була'), ('була', 'ROOT'), ('прегарна', 'фреска'), ('фреска', 'була'), (',', 'зображення'), ('зображення', 'фреска'), ('Венери', 'зображення'), ('та', 'Адоніса'), ('Адоніса', 'Венери')]\n\t Action: reduce\n--------------------\nStack: ['ROOT', 'була']\nQueue: ['.']\n\t Relation [('У', 'домі'), ('римського', 'патриція'), ('патриція', 'домі'), ('Руфіна', 'патриція'), ('домі', 'була'), ('була', 'ROOT'), ('прегарна', 'фреска'), ('фреска', 'була'), (',', 'зображення'), ('зображення', 'фреска'), ('Венери', 'зображення'), ('та', 'Адоніса'), ('Адоніса', 'Венери'), ('.', 'була')]\n\t Action: right\n--------------------\nStack: ['ROOT', 'була', '.']\nQueue: []\n\t Relation [('У', 'домі'), ('римського', 'патриція'), ('патриція', 'домі'), ('Руфіна', 'патриція'), ('домі', 'була'), ('була', 'ROOT'), ('прегарна', 'фреска'), ('фреска', 'була'), (',', 'зображення'), ('зображення', 'фреска'), ('Венери', 'зображення'), ('та', 'Адоніса'), ('Адоніса', 'Венери'), ('.', 'була')]\n\t Action: reduce\n--------------------\nStack: ['ROOT', 'була']\nQueue: []\n\t Relation [('У', 'домі'), ('римського', 'патриція'), ('патриція', 'домі'), ('Руфіна', 'патриція'), ('домі', 'була'), ('була', 'ROOT'), ('прегарна', 'фреска'), ('фреска', 'була'), (',', 'зображення'), ('зображення', 'фреска'), ('Венери', 'зображення'), ('та', 'Адоніса'), ('Адоніса', 'Венери'), ('.', 'була')]\n\t Action: reduce\n--------------------\nStack: ['ROOT']\nQueue: []\n\t Relation [('У', 'домі'), ('римського', 'патриція'), ('патриція', 'домі'), ('Руфіна', 'патриція'), ('домі', 'була'), ('була', 'ROOT'), ('прегарна', 'фреска'), ('фреска', 'була'), (',', 'зображення'), ('зображення', 'фреска'), ('Венери', 'зображення'), ('та', 'Адоніса'), ('Адоніса', 'Венери'), ('.', 'була')]\n\t Action: reduce\n"
    }
   ],
   "source": [
    "# Algorithm exploration \n",
    "def show_oracle_prophecy(tree, oracle=None):\n",
    "    print(tree.metadata['text'])\n",
    "    get_data([t for t in tree if type(t[\"id\"])==int], oracle=oracle ,verbose=True)\n",
    "\n",
    "show_oracle_prophecy(train_trees[0])"
   ]
  },
  {
   "cell_type": "code",
   "execution_count": 40,
   "metadata": {},
   "outputs": [],
   "source": [
    "def data_extractor(trees, extractor=None):\n",
    "    if extractor is None:\n",
    "        extractor = get_data\n",
    "    features, labels = [], []\n",
    "    for tree in trees:\n",
    "        # A simple hack would be to check the type of the node id\n",
    "        tree_features, tree_labels = extractor([t for t in tree if type(t[\"id\"])==int])\n",
    "        features += tree_features\n",
    "        labels += tree_labels    \n",
    "    return features, labels"
   ]
  },
  {
   "cell_type": "code",
   "execution_count": 52,
   "metadata": {
    "tags": [
     "outputPrepend"
    ]
   },
   "outputs": [
    {
     "output_type": "stream",
     "name": "stdout",
     "text": "190298 190298\n"
    }
   ],
   "source": [
    "# Train data\n",
    "\n",
    "train_features, train_labels = data_extractor(train_trees)\n",
    "\n",
    "print(len(train_features), len(train_labels))"
   ]
  },
  {
   "cell_type": "code",
   "execution_count": 53,
   "metadata": {},
   "outputs": [
    {
     "output_type": "stream",
     "name": "stdout",
     "text": "25820 25820\n"
    }
   ],
   "source": [
    "# Test data\n",
    "\n",
    "test_features, test_labels = data_extractor(test_trees)\n",
    "\n",
    "print(len(test_features), len(test_labels))"
   ]
  },
  {
   "cell_type": "markdown",
   "metadata": {},
   "source": [
    "## Train a classifier"
   ]
  },
  {
   "cell_type": "code",
   "execution_count": 14,
   "metadata": {},
   "outputs": [],
   "source": [
    "from sklearn.feature_extraction import DictVectorizer\n",
    "from sklearn.linear_model import LogisticRegression\n",
    "from sklearn.metrics import classification_report"
   ]
  },
  {
   "cell_type": "code",
   "execution_count": 54,
   "metadata": {},
   "outputs": [
    {
     "output_type": "stream",
     "name": "stdout",
     "text": "\nTotal number of features:  111126\n"
    }
   ],
   "source": [
    "vectorizer = DictVectorizer()\n",
    "vec = vectorizer.fit(train_features)\n",
    "\n",
    "print(\"\\nTotal number of features: \", len(vec.get_feature_names()))"
   ]
  },
  {
   "cell_type": "code",
   "execution_count": 55,
   "metadata": {},
   "outputs": [],
   "source": [
    "train_features_vectorized = vec.transform(train_features)\n",
    "test_features_vectorized = vec.transform(test_features)\n",
    "\n",
    "# Breaks my computer\n",
    "# print(len(train_features_vectorized.toarray()), len(test_features_vectorized.toarray()))"
   ]
  },
  {
   "cell_type": "code",
   "execution_count": 56,
   "metadata": {},
   "outputs": [
    {
     "output_type": "stream",
     "name": "stderr",
     "text": "[Parallel(n_jobs=1)]: Using backend SequentialBackend with 1 concurrent workers.\nconvergence after 546 epochs took 184 seconds\n[Parallel(n_jobs=1)]: Done   1 out of   1 | elapsed:  3.1min finished\n"
    },
    {
     "output_type": "execute_result",
     "data": {
      "text/plain": "LogisticRegression(max_iter=600, multi_class='multinomial', random_state=42,\n                   solver='saga', verbose=1)"
     },
     "metadata": {},
     "execution_count": 56
    }
   ],
   "source": [
    "lrc = LogisticRegression(random_state=42, solver=\"saga\", multi_class=\"multinomial\", max_iter=600, verbose=1)\n",
    "lrc.fit(train_features_vectorized, train_labels)"
   ]
  },
  {
   "cell_type": "code",
   "execution_count": 57,
   "metadata": {},
   "outputs": [
    {
     "output_type": "stream",
     "name": "stdout",
     "text": "precision    recall  f1-score   support\n\n        left       0.86      0.87      0.86      6371\n      reduce       0.85      0.78      0.81      6875\n       right       0.75      0.79      0.77      5996\n       shift       0.85      0.87      0.86      6578\n\n    accuracy                           0.83     25820\n   macro avg       0.83      0.83      0.83     25820\nweighted avg       0.83      0.83      0.83     25820\n\n"
    }
   ],
   "source": [
    "predicted = lrc.predict(test_features_vectorized)\n",
    "print(classification_report(test_labels, predicted))"
   ]
  },
  {
   "cell_type": "markdown",
   "metadata": {},
   "source": [
    "## Extend classes"
   ]
  },
  {
   "cell_type": "code",
   "execution_count": 23,
   "metadata": {},
   "outputs": [
    {
     "output_type": "stream",
     "name": "stdout",
     "text": "1 у case\n2 дім obl\n3 римський amod\n4 патрицій nmod\n5 Руфін flat:title\n6 бути root\n7 прегарний amod\n8 фреска nsubj\n9 , punct\n10 зображення appos\n11 Венера nmod\n12 та cc\n13 Адоніс conj\n14 . punct\n"
    }
   ],
   "source": [
    "for token in train_trees[0]:\n",
    "    print(token['id'], token['lemma'], token['deprel'])"
   ]
  },
  {
   "cell_type": "code",
   "execution_count": 44,
   "metadata": {},
   "outputs": [],
   "source": [
    "def get_data_with_deps(tree, oracle=None, verbose=False):\n",
    "    features, labels = [], []\n",
    "    stack, queue, relations, relations_human = [ROOT], tree[:], [], []\n",
    "\n",
    "    if oracle is None:\n",
    "        oracle = oracle_arc_eager\n",
    "\n",
    "    while queue or stack:\n",
    "        # get action\n",
    "        action = oracle(stack if len(stack) > 0 else None,\n",
    "                        queue if len(queue) > 0 else None,\n",
    "                        relations)\n",
    "        if verbose:\n",
    "            print(\"-\"*20)\n",
    "            print(f\"Stack: {[t['form'] for t in stack] if stack else []}\")\n",
    "            print(f\"Queue: {[t['form'] for t in queue] if queue else [] }\")\n",
    "\n",
    "        # Update train data\n",
    "        features.append(extract_features(stack, queue))\n",
    "        \n",
    "        deprel = None\n",
    "        # Perform action\n",
    "        if action == Actions.SHIFT:\n",
    "            stack.append(queue.pop(0))\n",
    "        elif action == Actions.REDUCE:\n",
    "            stack.pop()\n",
    "        elif action == Actions.LEFT:\n",
    "            relations.append((stack[-1][\"id\"], queue[0][\"id\"]))\n",
    "            if verbose:\n",
    "                relations_human.append((stack[-1][\"form\"], queue[0][\"form\"]))\n",
    "            \n",
    "            deprel = stack[-1][\"deprel\"]\n",
    "            \n",
    "            stack.pop()\n",
    "        elif action == Actions.RIGHT:\n",
    "            relations.append((queue[0][\"id\"], stack[-1][\"id\"]))\n",
    "            if verbose:\n",
    "                relations_human.append((queue[0][\"form\"], stack[-1][\"form\"]))\n",
    "            \n",
    "            deprel = queue[0][\"deprel\"]\n",
    "            stack.append(queue.pop(0))\n",
    "        else:\n",
    "            print(\"Unknown action.\")\n",
    "\n",
    "        if deprel:\n",
    "            labels.append(action.value+'_'+deprel)   \n",
    "        else:\n",
    "            labels.append(action.value)   \n",
    "\n",
    "        if verbose:\n",
    "            print(f\"\\t Relation {relations_human}\")\n",
    "            print(f\"\\t Action: {action}\")  \n",
    "            \n",
    "    return features, labels"
   ]
  },
  {
   "cell_type": "code",
   "execution_count": 48,
   "metadata": {},
   "outputs": [],
   "source": [
    "test_features, test_labels = data_extractor(test_trees,extractor=get_data_with_deps)\n",
    "train_features, train_labels = data_extractor(train_trees,extractor=get_data_with_deps)"
   ]
  },
  {
   "cell_type": "code",
   "execution_count": 50,
   "metadata": {},
   "outputs": [
    {
     "output_type": "stream",
     "name": "stderr",
     "text": "[Parallel(n_jobs=1)]: Using backend SequentialBackend with 1 concurrent workers.\nmax_iter reached after 1312 seconds\n[Parallel(n_jobs=1)]: Done   1 out of   1 | elapsed: 21.9min finished\n"
    },
    {
     "output_type": "execute_result",
     "data": {
      "text/plain": "LogisticRegression(max_iter=600, multi_class='multinomial', random_state=42,\n                   solver='saga', verbose=1)"
     },
     "metadata": {},
     "execution_count": 50
    }
   ],
   "source": [
    "vectorizer = DictVectorizer()\n",
    "vec = vectorizer.fit(train_features)\n",
    "\n",
    "train_features_vectorized = vec.transform(train_features)\n",
    "test_features_vectorized = vec.transform(test_features)\n",
    "\n",
    "lrc = LogisticRegression(random_state=42, solver=\"saga\", multi_class=\"multinomial\", max_iter=600, verbose=1)\n",
    "lrc.fit(train_features_vectorized, train_labels)"
   ]
  },
  {
   "cell_type": "code",
   "execution_count": 51,
   "metadata": {},
   "outputs": [
    {
     "output_type": "stream",
     "name": "stdout",
     "text": "precision    recall  f1-score   support\n\n                 left_acl       0.00      0.00      0.00         1\n               left_advcl       0.53      0.22      0.31        37\n            left_advcl:sp       0.00      0.00      0.00         1\n              left_advmod       0.81      0.91      0.86       528\n          left_advmod:det       0.75      0.75      0.75         4\n                left_amod       0.88      0.99      0.93       992\n                 left_aux       0.70      0.64      0.67        11\n                left_case       0.98      0.98      0.98      1150\n                  left_cc       0.89      0.91      0.90       443\n            left_compound       0.60      0.07      0.12        45\n                 left_cop       0.88      0.82      0.85        44\n               left_csubj       1.00      0.33      0.50         6\n                 left_det       0.94      0.97      0.96       276\n          left_det:numgov       0.93      0.93      0.93        14\n          left_det:nummod       1.00      0.50      0.67         4\n           left_discourse       0.82      0.79      0.81       146\n          left_dislocated       0.00      0.00      0.00         2\n                left_expl       0.60      0.86      0.71         7\n                left_iobj       0.00      0.00      0.00         5\n                left_mark       0.90      0.91      0.91       238\n                left_nmod       0.50      0.17      0.25         6\n               left_nsubj       0.70      0.75      0.72       615\n              left_nummod       0.58      0.79      0.67        48\n          left_nummod:gov       0.77      0.63      0.69        52\n                 left_obj       0.73      0.32      0.45       127\n                 left_obl       0.62      0.43      0.51       297\n              left_orphan       0.00      0.00      0.00         5\n           left_parataxis       0.00      0.00      0.00         4\n left_parataxis:discourse       0.00      0.00      0.00        19\n               left_punct       0.83      0.92      0.87      1233\n               left_xcomp       0.00      0.00      0.00         3\n            left_xcomp:sp       1.00      0.12      0.22         8\n                   reduce       0.83      0.84      0.83      6875\n                right_acl       0.56      0.30      0.39        46\n            right_acl:adv       0.00      0.00      0.00         4\n          right_acl:relcl       0.50      0.12      0.20       156\n              right_advcl       0.14      0.03      0.04        79\n           right_advcl:sp       0.00      0.00      0.00         2\n          right_advcl:svc       0.00      0.00      0.00         6\n             right_advmod       0.64      0.76      0.69        79\n               right_amod       0.23      0.24      0.23        29\n              right_appos       0.50      0.02      0.04        91\n                right_aux       0.90      1.00      0.95         9\n              right_ccomp       0.52      0.24      0.33        55\n           right_compound       0.90      0.88      0.89        32\n               right_conj       0.39      0.14      0.21       557\n                right_cop       1.00      0.50      0.67        18\n              right_csubj       0.84      0.56      0.67        64\n                right_det       0.50      0.25      0.33         4\n          right_discourse       0.90      0.76      0.83        34\n         right_dislocated       0.00      0.00      0.00         4\n               right_expl       0.00      0.00      0.00         2\n              right_fixed       0.87      0.42      0.57        31\n           right_flat:abs       0.67      0.50      0.57         4\n       right_flat:foreign       0.93      0.97      0.95        29\n          right_flat:name       0.71      0.88      0.79        59\n         right_flat:range       0.17      0.07      0.10        14\n        right_flat:repeat       0.00      0.00      0.00         3\n         right_flat:title       0.70      0.48      0.57       180\n           right_goeswith       0.00      0.00      0.00         1\n               right_iobj       1.00      0.33      0.50         9\n               right_list       0.00      0.00      0.00         3\n               right_nmod       0.59      0.77      0.67      1208\n              right_nsubj       0.56      0.23      0.33       171\n                right_obj       0.64      0.67      0.66       441\n                right_obl       0.57      0.69      0.62       524\n             right_orphan       0.00      0.00      0.00        10\n          right_parataxis       0.27      0.13      0.18       109\nright_parataxis:discourse       0.00      0.00      0.00         4\n  right_parataxis:newsent       0.00      0.00      0.00         1\n      right_parataxis:rel       0.00      0.00      0.00         7\n              right_punct       0.84      0.78      0.81      1126\n               right_root       0.93      0.86      0.89       647\n           right_vocative       0.00      0.00      0.00         1\n              right_xcomp       0.68      0.67      0.68       110\n           right_xcomp:sp       0.77      0.30      0.43        33\n                    shift       0.86      0.92      0.89      6578\n\n                 accuracy                           0.81     25820\n                macro avg       0.52      0.42      0.44     25820\n             weighted avg       0.80      0.81      0.80     25820\n\n"
    }
   ],
   "source": [
    "predicted = lrc.predict(test_features_vectorized)\n",
    "print(classification_report(test_labels, predicted))"
   ]
  },
  {
   "cell_type": "markdown",
   "metadata": {},
   "source": [
    "## Change model type"
   ]
  },
  {
   "cell_type": "code",
   "execution_count": 61,
   "metadata": {},
   "outputs": [
    {
     "output_type": "stream",
     "name": "stdout",
     "text": "[LibSVM]"
    },
    {
     "output_type": "execute_result",
     "data": {
      "text/plain": "SVC(C=0.5, coef0=0, degree=2, gamma=0.2, kernel='poly', max_iter=500,\n    probability=True, verbose=True)"
     },
     "metadata": {},
     "execution_count": 61
    }
   ],
   "source": [
    "from sklearn import svm\n",
    "model_svm = svm.SVC(\n",
    "                kernel=\"poly\",\n",
    "                degree=2,\n",
    "                coef0=0,\n",
    "                gamma=0.2,\n",
    "                C=0.5,\n",
    "                verbose=True,\n",
    "                probability=True,\n",
    "                max_iter = 500\n",
    "            )\n",
    "\n",
    "model_svm.fit(train_features_vectorized, train_labels)"
   ]
  },
  {
   "cell_type": "code",
   "execution_count": 62,
   "metadata": {},
   "outputs": [
    {
     "output_type": "stream",
     "name": "stdout",
     "text": "precision    recall  f1-score   support\n\n        left       0.77      0.78      0.78      6371\n      reduce       0.65      0.40      0.50      6875\n       right       0.47      0.71      0.57      5996\n       shift       0.53      0.48      0.50      6578\n\n    accuracy                           0.59     25820\n   macro avg       0.60      0.59      0.59     25820\nweighted avg       0.61      0.59      0.58     25820\n\n"
    }
   ],
   "source": [
    "predicted = model_svm.predict(test_features_vectorized)\n",
    "print(classification_report(test_labels, predicted))"
   ]
  },
  {
   "cell_type": "markdown",
   "metadata": {},
   "source": [
    "## Calculate the unlabeled attachment score\n",
    "UAS - the percentage of words in an input that are assigned the correct head."
   ]
  },
  {
   "cell_type": "code",
   "execution_count": 33,
   "metadata": {},
   "outputs": [],
   "source": [
    "def dep_parse(sentence, oracle, vectorizer, log=True):\n",
    "    stack, queue, relations = [ROOT], sentence[:], []\n",
    "    while queue or stack:\n",
    "        if stack and not queue:\n",
    "            stack.pop()\n",
    "        else:\n",
    "            features = extract_features(stack, queue)\n",
    "            action = oracle.predict(vectorizer.transform([features]))[0]\n",
    "            # actual parsing\n",
    "            if action == Actions.SHIFT:\n",
    "                stack.append(queue.pop(0))\n",
    "            elif action == Actions.REDUCE:\n",
    "                stack.pop()\n",
    "            elif action == Actions.LEFT:\n",
    "                relations.append((stack[-1][\"id\"], queue[0][\"id\"]))\n",
    "                stack.pop()\n",
    "            elif action == Actions.RIGHT:\n",
    "                relations.append((queue[0][\"id\"], stack[-1][\"id\"]))\n",
    "                stack.append(queue.pop(0))\n",
    "            else:\n",
    "                print(\"Unknown action.\")\n",
    "    return sorted(relations)"
   ]
  },
  {
   "cell_type": "code",
   "execution_count": 34,
   "metadata": {},
   "outputs": [
    {
     "output_type": "stream",
     "name": "stdout",
     "text": "Total: 12574\nCorrectly defined: 8717\nUAS: 0.69\nFull match: 0.09\n"
    }
   ],
   "source": [
    "total, tp, full_match = 0, 0, 0\n",
    "for tree in test_trees:\n",
    "    tree = [t for t in tree if type(t[\"id\"])==int]\n",
    "    golden = [(node[\"id\"], node[\"head\"]) for node in tree]\n",
    "    predicted = dep_parse(tree, lrc, vec, log=False)\n",
    "    total += len(tree)\n",
    "    tp += len(set(golden).intersection(set(predicted)))\n",
    "    if set(golden) == set(predicted):\n",
    "        full_match += 1\n",
    "\n",
    "print(\"Total:\", total)\n",
    "print(\"Correctly defined:\", tp)\n",
    "print(\"UAS:\", round(tp/total, 2))\n",
    "print(\"Full match:\", round(full_match/len(test_trees), 2))"
   ]
  },
  {
   "cell_type": "markdown",
   "metadata": {},
   "source": [
    "## Find non-projective trees"
   ]
  },
  {
   "cell_type": "code",
   "execution_count": 37,
   "metadata": {},
   "outputs": [
    {
     "output_type": "stream",
     "name": "stdout",
     "text": "The percentage of non-projective trees is 7.99 (439 out of 5496).\nIDs: [4, 9, 13, 19, 22, 28, 29, 33, 34, 43]\n"
    }
   ],
   "source": [
    "def is_non_projective(tree):\n",
    "    relations = [[i['id'], i['head']] for i in tree if type(i[\"id\"])==int]\n",
    "    for rel in relations:\n",
    "        for ref_rel in relations:\n",
    "            a, c = sorted(rel)\n",
    "            b, d = sorted(ref_rel)\n",
    "            if a < b and b < c and c < d:\n",
    "                return True\n",
    "    return False\n",
    "\n",
    "total_non_pr = 0\n",
    "np_tree_ids = []\n",
    "for i in range(len(train_trees)):\n",
    "    if is_non_projective(train_trees[i]):\n",
    "        total_non_pr += 1\n",
    "        np_tree_ids.append(i)\n",
    "\n",
    "print(\"The percentage of non-projective trees is {} ({} out of {}).\".\n",
    "      format(round(total_non_pr * 100 / len(train_trees), 2), total_non_pr, len(train_trees)))\n",
    "\n",
    "print(\"IDs:\", np_tree_ids[:10])"
   ]
  },
  {
   "cell_type": "markdown",
   "metadata": {},
   "source": [
    "## Nonprojectivity. Swap"
   ]
  },
  {
   "cell_type": "code",
   "execution_count": 39,
   "metadata": {},
   "outputs": [
    {
     "output_type": "stream",
     "name": "stdout",
     "text": "1042\nЯкось треба жити.\n"
    }
   ],
   "source": [
    "# find the smalest nonprojective tree. Why its non-projective? How to fix it?\n",
    "smallest_len = 99999\n",
    "smallest_np_tree_id = -1\n",
    "\n",
    "for np_tree_id in np_tree_ids:\n",
    "    if len(train_trees[np_tree_id])<smallest_len:\n",
    "        smallest_np_tree_id = np_tree_id\n",
    "        smallest_len = len(train_trees[np_tree_id])\n",
    "        # print(smallest_np_tree_id)\n",
    "        # print(train_trees[smallest_np_tree_id].metadata['text'])\n",
    "\n",
    "print(smallest_np_tree_id)\n",
    "print(train_trees[smallest_np_tree_id].metadata['text'])"
   ]
  },
  {
   "cell_type": "code",
   "execution_count": 21,
   "metadata": {},
   "outputs": [
    {
     "output_type": "stream",
     "name": "stdout",
     "text": "1 якось advmod\n2 треба root\n3 жити csubj\n4 . punct\n"
    }
   ],
   "source": [
    "for token in train_trees[1042]:\n",
    "    print(token['id'], token['lemma'], token['deprel'])"
   ]
  },
  {
   "cell_type": "code",
   "execution_count": 22,
   "metadata": {},
   "outputs": [
    {
     "output_type": "stream",
     "name": "stdout",
     "text": "Якось треба жити.\n--------------------\nStack: ['ROOT']\nQueue: ['Якось', 'треба', 'жити', '.']\n\t Relation []\n\t Action: shift\n--------------------\nStack: ['ROOT', 'Якось']\nQueue: ['треба', 'жити', '.']\n\t Relation []\n\t Action: shift\n--------------------\nStack: ['ROOT', 'Якось', 'треба']\nQueue: ['жити', '.']\n\t Relation [('жити', 'треба')]\n\t Action: right\n--------------------\nStack: ['ROOT', 'Якось', 'треба', 'жити']\nQueue: ['.']\n\t Relation [('жити', 'треба')]\n\t Action: reduce\n--------------------\nStack: ['ROOT', 'Якось', 'треба']\nQueue: ['.']\n\t Relation [('жити', 'треба'), ('.', 'треба')]\n\t Action: right\n--------------------\nStack: ['ROOT', 'Якось', 'треба', '.']\nQueue: []\n\t Relation [('жити', 'треба'), ('.', 'треба')]\n\t Action: reduce\n--------------------\nStack: ['ROOT', 'Якось', 'треба']\nQueue: []\n\t Relation [('жити', 'треба'), ('.', 'треба')]\n\t Action: reduce\n--------------------\nStack: ['ROOT', 'Якось']\nQueue: []\n\t Relation [('жити', 'треба'), ('.', 'треба')]\n\t Action: reduce\n--------------------\nStack: ['ROOT']\nQueue: []\n\t Relation [('жити', 'треба'), ('.', 'треба')]\n\t Action: reduce\n"
    }
   ],
   "source": [
    "show_oracle_prophecy(train_trees[1042])"
   ]
  },
  {
   "cell_type": "code",
   "execution_count": 60,
   "metadata": {},
   "outputs": [
    {
     "output_type": "stream",
     "name": "stdout",
     "text": "Якось треба жити.\n***Default***\n--------------------\nStack: ['ROOT']\nQueue: ['Якось', 'треба', 'жити', '.']\n\t Relation []\n\t Action: shift\n***Default***\n--------------------\nStack: ['ROOT', 'Якось']\nQueue: ['треба', 'жити', '.']\n\t Relation []\n\t Action: shift\n--------------------\nStack: ['ROOT', 'Якось', 'треба']\nQueue: ['жити', '.']\n\t Relation [('жити', 'треба')]\n\t Action: right\n--------------------\nStack: ['ROOT', 'Якось', 'треба', 'жити']\nQueue: ['.']\n\t Relation [('жити', 'треба')]\n\t Action: reduce\n--------------------\nStack: ['ROOT', 'Якось', 'треба']\nQueue: ['.']\n\t Relation [('жити', 'треба'), ('.', 'треба')]\n\t Action: right\n--------------------\nStack: ['ROOT', 'Якось', 'треба', '.']\nQueue: []\n\t Relation [('жити', 'треба'), ('.', 'треба')]\n\t Action: reduce\n--------------------\nStack: ['ROOT', 'Якось', 'треба']\nQueue: []\n\t Relation [('жити', 'треба'), ('.', 'треба')]\n\t Action: reduce\n--------------------\nStack: ['ROOT', 'Якось']\nQueue: []\n\t Relation [('жити', 'треба'), ('.', 'треба')]\n\t Action: reduce\n--------------------\nStack: ['ROOT']\nQueue: []\n\t Relation [('жити', 'треба'), ('.', 'треба')]\n\t Action: reduce\n"
    }
   ],
   "source": [
    "def oracle_arc_eager_swap(stack, queue, relations):\n",
    "    \"\"\"\n",
    "    Make a decision on the right action to do.\n",
    "    \"\"\"\n",
    "    top_stack = stack[-1]\n",
    "    top_queue = queue[0] if queue else None\n",
    "    \n",
    "    # check if both stack and queue are non-empty\n",
    "    if top_stack and not top_queue:\n",
    "        return Actions.REDUCE\n",
    "    # check if there are any clear dependencies\n",
    "    elif top_queue[\"head\"] == top_stack[\"id\"]:\n",
    "        return Actions.RIGHT\n",
    "    elif top_stack[\"head\"] == top_queue[\"id\"]:\n",
    "        return Actions.LEFT\n",
    "    # check if we can reduce the top of the stack\n",
    "    elif top_stack[\"id\"] in [i[0] for i in relations] and \\\n",
    "         (top_queue[\"head\"] < top_stack[\"id\"] or \\\n",
    "          [s for s in stack if s[\"head\"] == top_queue[\"id\"]]):\n",
    "        return Actions.REDUCE\n",
    "    elif  \n",
    "    # default option\n",
    "    else:\n",
    "        print(\"***Default***\")\n",
    "        return Actions.SHIFT\n",
    "\n",
    "show_oracle_prophecy(train_trees[1042],oracle_arc_eager_swap)"
   ]
  },
  {
   "cell_type": "code",
   "execution_count": null,
   "metadata": {},
   "outputs": [],
   "source": []
  }
 ],
 "metadata": {
  "kernelspec": {
   "display_name": "Python 3.7.6 64-bit ('env': venv)",
   "language": "python",
   "name": "python37664bitenvvenvfffd7d7fcdfa4206a59fb1836506d979"
  },
  "language_info": {
   "codemirror_mode": {
    "name": "ipython",
    "version": 3
   },
   "file_extension": ".py",
   "mimetype": "text/x-python",
   "name": "python",
   "nbconvert_exporter": "python",
   "pygments_lexer": "ipython3",
   "version": "3.7.6-final"
  }
 },
 "nbformat": 4,
 "nbformat_minor": 2
}